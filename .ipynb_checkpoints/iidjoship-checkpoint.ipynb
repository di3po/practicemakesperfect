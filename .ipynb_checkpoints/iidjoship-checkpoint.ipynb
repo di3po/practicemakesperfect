{
 "cells": [
  {
   "cell_type": "raw",
   "metadata": {},
   "source": [
    "Методы предобработки данных: бинаризация, исключение среднего, масштабирование, нормализация"
   ]
  },
  {
   "cell_type": "code",
   "execution_count": 4,
   "metadata": {},
   "outputs": [
    {
     "name": "stdout",
     "output_type": "stream",
     "text": [
      "Binarized data:\n",
      " [[1. 0. 1.]\n",
      " [0. 1. 0.]\n",
      " [1. 0. 0.]\n",
      " [1. 0. 0.]]\n"
     ]
    }
   ],
   "source": [
    "#1-Бинаризация\n",
    "import numpy as np\n",
    "from sklearn import preprocessing\n",
    "\n",
    "input_data = np.array([[5.1, -2.9, 3.3],\n",
    "                       [-1.2, 7.8, -6.1],\n",
    "                       [3.9, 0.4, 2.1],\n",
    "                       [7.3, -9.9, -4.5]\n",
    "    \n",
    "])\n",
    "data_binarized = preprocessing.Binarizer(threshold = 2.1).transform(input_data)\n",
    "print(\"Binarized data:\\n\", data_binarized)"
   ]
  },
  {
   "cell_type": "code",
   "execution_count": 2,
   "metadata": {},
   "outputs": [
    {
     "name": "stdout",
     "output_type": "stream",
     "text": [
      "Mean:  [1.11022302e-16 0.00000000e+00 2.77555756e-17]\n",
      "Std deviation:  [1. 1. 1.]\n"
     ]
    }
   ],
   "source": [
    "#2-Исключение среднего\n",
    "import numpy as np\n",
    "from sklearn import preprocessing\n",
    "\n",
    "input_data = np.array([[5.1, -2.9, 3.3],\n",
    "                       [-1.2, 7.8, -6.1],\n",
    "                       [3.9, 0.4, 2.1],\n",
    "                       [7.3, -9.9, -4.5]\n",
    "    \n",
    "])\n",
    "data_scaled = preprocessing.scale(input_data)\n",
    "print(\"Mean: \", data_scaled.mean(axis=0))\n",
    "print(\"Std deviation: \", data_scaled.std(axis=0))\n"
   ]
  },
  {
   "cell_type": "code",
   "execution_count": 4,
   "metadata": {},
   "outputs": [
    {
     "name": "stdout",
     "output_type": "stream",
     "text": [
      "MinMax scaled data:\n",
      " [[0.74117647 0.39548023 1.        ]\n",
      " [0.         1.         0.        ]\n",
      " [0.6        0.5819209  0.87234043]\n",
      " [1.         0.         0.17021277]]\n"
     ]
    }
   ],
   "source": [
    "#3-Масштабирование\n",
    "import numpy as np\n",
    "from sklearn import preprocessing\n",
    "\n",
    "input_data = np.array([[5.1, -2.9, 3.3],\n",
    "                       [-1.2, 7.8, -6.1],\n",
    "                       [3.9, 0.4, 2.1],\n",
    "                       [7.3, -9.9, -4.5]\n",
    "    \n",
    "])\n",
    "data_scaler_minmax = preprocessing.MinMaxScaler(feature_range=(0,1))\n",
    "data_scaled_minmax = data_scaler_minmax.fit_transform(input_data)\n",
    "print(\"MinMax scaled data:\\n\", data_scaled_minmax)"
   ]
  },
  {
   "cell_type": "code",
   "execution_count": 7,
   "metadata": {},
   "outputs": [
    {
     "name": "stdout",
     "output_type": "stream",
     "text": [
      "L1 normalized data:\n",
      " [[ 0.45132743 -0.25663717  0.2920354 ]\n",
      " [-0.0794702   0.51655629 -0.40397351]\n",
      " [ 0.609375    0.0625      0.328125  ]\n",
      " [ 0.33640553 -0.4562212  -0.20737327]]\n",
      "\n",
      "L2 normalized data:\n",
      " [[ 0.75765788 -0.43082507  0.49024922]\n",
      " [-0.12030718  0.78199664 -0.61156148]\n",
      " [ 0.87690281  0.08993875  0.47217844]\n",
      " [ 0.55734935 -0.75585734 -0.34357152]]\n"
     ]
    }
   ],
   "source": [
    "#4-Нормализация\n",
    "import numpy as np\n",
    "from sklearn import preprocessing\n",
    "\n",
    "input_data = np.array([[5.1, -2.9, 3.3],\n",
    "                       [-1.2, 7.8, -6.1],\n",
    "                       [3.9, 0.4, 2.1],\n",
    "                       [7.3, -9.9, -4.5]\n",
    "    \n",
    "])\n",
    "data_normalized_l1 = preprocessing.normalize(input_data, norm='l1')\n",
    "data_normalized_l2 = preprocessing.normalize(input_data, norm='l2')\n",
    "print(\"L1 normalized data:\\n\", data_normalized_l1)\n",
    "print(\"\\nL2 normalized data:\\n\", data_normalized_l2)"
   ]
  },
  {
   "cell_type": "markdown",
   "metadata": {},
   "source": [
    "# Создание системы распознавания реч"
   ]
  },
  {
   "cell_type": "code",
   "execution_count": 19,
   "metadata": {},
   "outputs": [
    {
     "name": "stderr",
     "output_type": "stream",
     "text": [
      "<ipython-input-19-168b54cb2f67>:5: WavFileWarning: Chunk (non-data) not understood, skipping it.\n",
      "  sampling_freq, signal = wavfile.read(\"/home/user/Desktop/Aidana_1_01.wav\")\n"
     ]
    },
    {
     "name": "stdout",
     "output_type": "stream",
     "text": [
      "Signal shape:  (32000,)\n",
      "Signal data type:  int16\n",
      "Signal duration:  2.0  seconds\n"
     ]
    },
    {
     "data": {
      "image/png": "[encoded data removed]",
      "text/plain": [
       "<Figure size 432x288 with 1 Axes>"
      ]
     },
     "metadata": {
      "needs_background": "light"
     },
     "output_type": "display_data"
    }
   ],
   "source": [
    "import numpy as np\n",
    "import matplotlib.pyplot as plt\n",
    "from scipy.io import wavfile\n",
    "\n",
    "#Чтение аудиофайла\n",
    "sampling_freq, signal = wavfile.read(\"/home/user/Desktop/Aidana_1_01.wav\")\n",
    "\n",
    "#Выведем форму сиrнала, тип данных и длительность аудиосиrнала.\n",
    "print(\"Signal shape: \", signal.shape)\n",
    "print(\"Signal data type: \", signal.dtype)\n",
    "print(\"Signal duration: \", round(signal.shape[0]/float(sampling_freq), 2), \" seconds\")\n",
    "\n",
    "#Нормализуем сигнал\n",
    "signal = signal/np.power(2,15)\n",
    "\n",
    "#Извлечем первые 50 значений из массива numpy для построения rрафика.\n",
    "signal = signal[:50]\n",
    "\n",
    "#Построим ось времени в миллисекундах для rрафика.\n",
    "time_axis = 1000 * np.arange(0, len(signal), 1)/float(sampling_freq)\n",
    "\n",
    "#Построим rрафик аудиосиrнала.\n",
    "plt.plot(time_axis, signal, color = \"cyan\")\n",
    "plt.xlabel(\"Время(миллисекунды)\")\n",
    "plt.ylabel(\"Амплитуда\")\n",
    "plt.title(\"Входной сигнал\")\n",
    "plt.show()"
   ]
  },
  {
   "cell_type": "code",
   "execution_count": 38,
   "metadata": {},
   "outputs": [
    {
     "name": "stdout",
     "output_type": "stream",
     "text": [
      "Signal shape:  (16161,)\n",
      "Signal datatype:  int16\n",
      "Signal duration:  1.0100625  seconds\n"
     ]
    },
    {
     "data": {
      "image/png": "[encoded data removed]",
      "text/plain": [
       "<Figure size 432x288 with 1 Axes>"
      ]
     },
     "metadata": {
      "needs_background": "light"
     },
     "output_type": "display_data"
    }
   ],
   "source": [
    "import numpy as np\n",
    "import matplotlib.pyplot as plt\n",
    "from scipy.io import wavfile\n",
    "\n",
    "sig_freq, sig = wavfile.read(\"/home/user/Desktop/Akerke_3_1.wav\")\n",
    "\n",
    "print(\"Signal shape: \", sig.shape)\n",
    "print(\"Signal datatype: \", sig.dtype)\n",
    "print(\"Signal duration: \", sig.shape[0]/float(sig_freq), \" seconds\")\n",
    "\n",
    "sig = sig/np.power(2,15)\n",
    "\n",
    "time_axis = 1000 * np.arange(0, len(sig), 1) / float(sig_freq)\n",
    "\n",
    "plt.plot(time_axis, sig, color = \"pink\")\n",
    "plt.xlabel(\"Time(milesec)\")\n",
    "plt.ylabel(\"Amplitude\")\n",
    "plt.title(\"Akerke_3_1\")\n",
    "plt.show()"
   ]
  },
  {
   "cell_type": "code",
   "execution_count": 39,
   "metadata": {},
   "outputs": [
    {
     "name": "stdout",
     "output_type": "stream",
     "text": [
      "Wav shape:  (12446,)\n",
      "Wav datatype:  int16\n",
      "Wav duration:  0.777875 sec\n"
     ]
    },
    {
     "data": {
      "image/png": "[encoded data removed]",
      "text/plain": [
       "<Figure size 432x288 with 1 Axes>"
      ]
     },
     "metadata": {
      "needs_background": "light"
     },
     "output_type": "display_data"
    }
   ],
   "source": [
    "import numpy as np\n",
    "import matplotlib.pyplot as plt\n",
    "from scipy.io import wavfile\n",
    "\n",
    "freq, wav = wavfile.read(\"/home/user/Desktop/Bolat_3_1.wav\")\n",
    "\n",
    "print(\"Wav shape: \", wav.shape)\n",
    "print(\"Wav datatype: \", wav.dtype)\n",
    "print(\"Wav duration: \", wav.shape[0]/float(freq), \"sec\")\n",
    "\n",
    "wav = wav/np.power(2,15)\n",
    "\n",
    "time_axis = 1000 * np.arange(0,len(wav),1)/float(freq)\n",
    "\n",
    "plt.plot(time_axis, wav, color = \"blue\")\n",
    "plt.xlabel(\"Time(milesec)\")\n",
    "plt.ylabel(\"Amplitude\")\n",
    "plt.title(\"Bolat_3_1.wav\", color = \"blue\")\n",
    "plt.show()"
   ]
  },
  {
   "cell_type": "code",
   "execution_count": 34,
   "metadata": {},
   "outputs": [
    {
     "name": "stdout",
     "output_type": "stream",
     "text": [
      "Audio shape:  (15233,)\n",
      "Audio datatype:  int16\n",
      "Audio duration:  0.9520625 seconds\n"
     ]
    },
    {
     "data": {
      "image/png": "[encoded data removed]",
      "text/plain": [
       "<Figure size 432x288 with 1 Axes>"
      ]
     },
     "metadata": {
      "needs_background": "light"
     },
     "output_type": "display_data"
    }
   ],
   "source": [
    "import numpy as np\n",
    "import matplotlib.pyplot as plt\n",
    "from scipy.io import wavfile\n",
    "\n",
    "f, audio = wavfile.read(\"/home/user/Desktop/Nurlan_5_1.wav\")\n",
    "\n",
    "print(\"Audio shape: \", audio.shape)\n",
    "print(\"Audio datatype: \", audio.dtype)\n",
    "print(\"Audio duration: \", audio.shape[0]/float(f), \"seconds\")\n",
    "\n",
    "audio = audio/np.power(2,15)\n",
    "\n",
    "time_axis = 1000*np.arange(0,len(audio),1)/float(f)\n",
    "\n",
    "plt.plot(time_axis, audio, color = \"black\")\n",
    "plt.xlabel(\"Time(milesec)\")\n",
    "plt.ylabel(\"Amplitude\")\n",
    "plt.title(\"Nurlan_5_1.wav\")\n",
    "plt.show()"
   ]
  },
  {
   "cell_type": "markdown",
   "metadata": {},
   "source": [
    "# Преобразование аудиосигналов в частотные интервалы"
   ]
  },
  {
   "cell_type": "code",
   "execution_count": 41,
   "metadata": {},
   "outputs": [
    {
     "data": {
      "image/png": "[encoded data removed]",
      "text/plain": [
       "<Figure size 432x288 with 1 Axes>"
      ]
     },
     "metadata": {
      "needs_background": "light"
     },
     "output_type": "display_data"
    }
   ],
   "source": [
    "import numpy as np\n",
    "import matplotlib.pyplot as plt\n",
    "from scipy.io import wavfile\n",
    "\n",
    "sample_freq, audio = wavfile.read(\"/home/user/Desktop/Nurlan_5_1.wav\")\n",
    "\n",
    "audio = audio/np.power(2,15)\n",
    "\n",
    "len_audio = len(audio)\n",
    "len_halfaudio = np.ceil((len(audio)+1)/2).astype(np.int)\n",
    "\n",
    "sample_freq = np.fft.fft(audio)\n",
    "\n",
    "sample_freq = abs(sample_freq[0:len_halfaudio])/len_audio\n",
    "sample_freq**=2\n",
    "\n",
    "len_fts = len(sample_freq)\n",
    "\n",
    "if len_audio%2:\n",
    "    sample_freq[1:len_fts]*=2\n",
    "else:\n",
    "    sample_freq[1:len_fts-1]*=2\n",
    "    \n",
    "audio_power = 10 * np.log10(sample_freq)\n",
    "\n",
    "x_axis = np.arange(0,len_halfaudio,1) * (sample_freq/len_audio) / 1000.0\n",
    "\n",
    "plt.figure()\n",
    "plt.plot(x_axis, audio_power, color = \"brown\")\n",
    "plt.xlabel(\"Частота(кГц)\")\n",
    "plt.ylabel(\"Мощность сигнала(дБ)\")\n",
    "plt.show()"
   ]
  },
  {
   "cell_type": "markdown",
   "metadata": {},
   "source": [
    "# Извлечение речевых признаков"
   ]
  },
  {
   "cell_type": "code",
   "execution_count": 47,
   "metadata": {},
   "outputs": [
    {
     "name": "stdout",
     "output_type": "stream",
     "text": [
      "MFCC:\n",
      "Number of windows:  61\n",
      "\n",
      "Length of each feature:  13\n",
      "\n",
      "Filter bank:\n",
      "Number of windows:  61\n",
      "\n",
      "Length of each feature:  26\n"
     ]
    },
    {
     "data": {
      "image/png": "[encoded data removed]",
      "text/plain": [
       "<Figure size 1152x245.508 with 1 Axes>"
      ]
     },
     "metadata": {
      "needs_background": "light"
     },
     "output_type": "display_data"
    },
    {
     "data": {
      "image/png": "[encoded data removed]",
      "text/plain": [
       "<Figure size 675.692x288 with 1 Axes>"
      ]
     },
     "metadata": {
      "needs_background": "light"
     },
     "output_type": "display_data"
    }
   ],
   "source": [
    "import numpy as np\n",
    "import matplotlib.pyplot as plt\n",
    "from scipy.io import wavfile\n",
    "from python_speech_features import mfcc, logfbank\n",
    "\n",
    "sample_freq, wav = wavfile.read(\"/home/user/Desktop/Nurlan_5_1.wav\")\n",
    "\n",
    "wav = wav[:10000]\n",
    "\n",
    "features_mfcc = mfcc(wav, sample_freq)\n",
    "\n",
    "print(\"MFCC:\\nNumber of windows: \", features_mfcc.shape[0])\n",
    "print(\"\\nLength of each feature: \", features_mfcc.shape[1])\n",
    "\n",
    "#Graph of MFCC features\n",
    "features_mfcc = features_mfcc.T\n",
    "plt.matshow(features_mfcc)\n",
    "plt.title(\"MFCC\")\n",
    "\n",
    "features_fb = logfbank(wav, sample_freq)\n",
    "\n",
    "print(\"\\nFilter bank:\\nNumber of windows: \", features_fb.shape[0])\n",
    "print(\"\\nLength of each feature: \", features_fb.shape[1])\n",
    "\n",
    "#Graph of features\n",
    "features_fb = features_fb.T\n",
    "plt.matshow(features_fb)\n",
    "plt.title(\"Features(grebenka filtrov)\")\n",
    "plt.show()"
   ]
  },
  {
   "cell_type": "markdown",
   "metadata": {},
   "source": [
    "# Распознавание речевых признаков"
   ]
  },
  {
   "cell_type": "code",
   "execution_count": 1,
   "metadata": {},
   "outputs": [],
   "source": [
    "import os\n",
    "import argparse\n",
    "import warnings\n",
    "\n",
    "import numpy as np\n",
    "from scipy.io import wavfile\n",
    "\n",
    "from hmmlearn import hmm #HMM stands for \"Hidden Markov Models\"\n",
    "from python_speech_features import mfcc"
   ]
  },
  {
   "cell_type": "code",
   "execution_count": 24,
   "metadata": {},
   "outputs": [],
   "source": [
    "#function for analyzing arguments\n",
    "def build_arg_parser():\n",
    "    parser = argparse.ArgumentParser(description=\"Trains / the HMM-based speech recognition system\")\n",
    "    parser.add_argument(\"--input_folder\", dest=\"input_folder\",\n",
    "                       required=True, help=\"Input folder containig the audio files for training\")\n",
    "    return parser"
   ]
  },
  {
   "cell_type": "code",
   "execution_count": 25,
   "metadata": {},
   "outputs": [],
   "source": [
    "#class for training HMM models\n",
    "class ModelHmm(object):\n",
    "    def __init__(self, num_components=4, num_iter=1000):\n",
    "        self.n_components = num_components\n",
    "        self.n_iter = num_iter\n",
    "        \n",
    "        #type of covariation and HMM\n",
    "        self.cov_type = \"diag\"\n",
    "        self.model_name = \"GaussianHMM\"\n",
    "        \n",
    "        #variable for storing each model\n",
    "        self.models = []\n",
    "        \n",
    "        #Определим модель, используя указанные параметры\n",
    "        self.model = hmm.GaussianHMM(n_components=self.n_components,\n",
    "                                    covariance_type=self.cov_type,\n",
    "                                    n_iter=self.n_iter)\n",
    "        \n",
    "    #Определим метод для обучения модели\n",
    "    #training_data-это 2D массив numpy, в котором каждая строка имеет 13 измерений\n",
    "    def train(self, training_data):\n",
    "        np.seterr(all=\"ignore\")\n",
    "        cur_model = self.fit.model(training_data)\n",
    "        self.models.append(cur_model)\n",
    "        \n",
    "    #Определим метод, оценивающий входные данные\n",
    "    def compute_score(self, input_data):\n",
    "        return self.model.score(input_data)"
   ]
  },
  {
   "cell_type": "code",
   "execution_count": 26,
   "metadata": {},
   "outputs": [],
   "source": [
    "#function creating model for each word in training data\n",
    "def build_models(input_folder):\n",
    "    #var for storing all models\n",
    "    speech_models = []\n",
    "    \n",
    "    #анализ входного канала\n",
    "    for dirname in os.listdir(input_folder):\n",
    "        subfolder = os.path.join(input_folder, dirname)\n",
    "        \n",
    "        if not os.path.isdir(subfolder):\n",
    "            continue\n",
    "        \n",
    "        #Metka(na nahozhdenie slova)\n",
    "        label = subfolder[subfolder.rfind('/')+1:]\n",
    "        \n",
    "        #variable created for storing training data\n",
    "        X = np.array([])\n",
    "        \n",
    "        #creating list of files which will be used for training model, one file in each folder is saved for testing\n",
    "        training_files = [x for x in os.path.listdir(subfolder) if x.endswith('.wav')][:-1]\n",
    "        \n",
    "        #building models by going through training_files\n",
    "        for filename in training_files:\n",
    "            #getting path to current file\n",
    "            filepath = os.path.join(subfolder, filename)\n",
    "            \n",
    "            #read audio from current folder\n",
    "            freq, audio = wavfile.read(filepath)\n",
    "            \n",
    "            #get MFCC features\n",
    "            with warnings.catch_warnings():\n",
    "                warnings.simplefilter('ignore')\n",
    "                features_mfcc = mfcc(freq, audio)\n",
    "                \n",
    "            #connect features_mfcc(point of data) to X\n",
    "            if len(X) == 0:\n",
    "                X = features_mfcc\n",
    "            else:\n",
    "                X = np.append(X, features_mfcc, axis=0)\n",
    "                \n",
    "        #Initialization of HMM\n",
    "        #Create HMM\n",
    "        model = ModelHMM()\n",
    "        #Train HMM\n",
    "        model.train(X)\n",
    "        #Save model for current word\n",
    "        speech_models.append((model, label))\n",
    "        #Sbros peremennoi\n",
    "        model = None\n",
    "    return speech_models         "
   ]
  },
  {
   "cell_type": "code",
   "execution_count": 27,
   "metadata": {},
   "outputs": [],
   "source": [
    "#function for testing training date\n",
    "def run_tests(test_files):\n",
    "    for test_file in test_files:\n",
    "        freq, audio = wavfile.read(test_file)\n",
    "        \n",
    "        #get MFCC features\n",
    "        with warnings.catch_warnings():\n",
    "            warnings.simplefilter('ignore')\n",
    "            features_mfcc = mfcc(freq, audio)\n",
    "                \n",
    "                \n",
    "        #var for maximum ocenka\n",
    "        max_score = -float('inf')\n",
    "        #var for output label\n",
    "        output_label = None\n",
    "        \n",
    "        #iteration through HMM models and choosing the best one of them\n",
    "        for item in speech_models:\n",
    "            model, label = item\n",
    "            \n",
    "            #count score here and consider it with max_score\n",
    "            score = model.compute_score(features_mfcc)\n",
    "            if score>max_score:\n",
    "                max_score = score\n",
    "                predicted_label = label\n",
    "            \n",
    "        #vyvod predicted result\n",
    "        start_index = test_file.find('/')+1\n",
    "        end_index = test_file.rfind('/')\n",
    "        original_label = test_file[start_index:end_index]\n",
    "        print('Original: ', orignal_label)\n",
    "        print('\\nPredicted: ', predicted_label)              "
   ]
  },
  {
   "cell_type": "code",
   "execution_count": 28,
   "metadata": {},
   "outputs": [
    {
     "name": "stderr",
     "output_type": "stream",
     "text": [
      "usage: ipykernel_launcher.py [-h] --input_folder /HOME/USER/MY/INPUT_FOLDER\n",
      "ipykernel_launcher.py: error: the following arguments are required: --input_folder\n"
     ]
    },
    {
     "ename": "SystemExit",
     "evalue": "2",
     "output_type": "error",
     "traceback": [
      "An exception has occurred, use %tb to see the full traceback.\n",
      "\u001b[0;31mSystemExit\u001b[0m\u001b[0;31m:\u001b[0m 2\n"
     ]
    }
   ],
   "source": [
    "#Main function\n",
    "if __name__ == '__main__':\n",
    "    #get input folder from input parameter\n",
    "    args = build_arg_parser().parse_args()\n",
    "    input_folder = args.input_folder\n",
    "    \n",
    "    #create HMM model for each word\n",
    "    speech_models = build_models(input_folder)\n",
    "    \n",
    "    #1 file in each folder is used for testing. Let's use this file to find out how much precise \n",
    "    #is current model\n",
    "    #--15 here is the 15'th file in each folder\n",
    "    test_files = []\n",
    "    for root, dirs, files in os.walk(input_folder):\n",
    "        for filename in (x for x in files if '10' in x):\n",
    "            filepath = os.path.join(root, filename)\n",
    "            test_files.append(filepath)\n",
    "            \n",
    "    run_tests(test_files)\n",
    "            \n",
    "    \n",
    "    \n",
    "    \n",
    "    \n",
    "    \n",
    "    \n",
    "    \n",
    "    "
   ]
  },
  {
   "cell_type": "code",
   "execution_count": null,
   "metadata": {},
   "outputs": [],
   "source": []
  }
 ],
 "metadata": {
  "kernelspec": {
   "display_name": "Python 3",
   "language": "python",
   "name": "python3"
  },
  "language_info": {
   "codemirror_mode": {
    "name": "ipython",
    "version": 3
   },
   "file_extension": ".py",
   "mimetype": "text/x-python",
   "name": "python",
   "nbconvert_exporter": "python",
   "pygments_lexer": "ipython3",
   "version": "3.8.5"
  }
 },
 "nbformat": 4,
 "nbformat_minor": 4
}
