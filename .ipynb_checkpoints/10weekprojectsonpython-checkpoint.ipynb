{
 "cells": [
  {
   "cell_type": "markdown",
   "metadata": {},
   "source": [
    "# Python Projects for beginners: a 10 week bootcamp approach"
   ]
  },
  {
   "cell_type": "markdown",
   "metadata": {},
   "source": [
    "# Strings: formatting strings"
   ]
  },
  {
   "cell_type": "code",
   "execution_count": 1,
   "metadata": {},
   "outputs": [
    {
     "name": "stdout",
     "output_type": "stream",
     "text": [
      "Hello, John. You are 28 years old.\n"
     ]
    }
   ],
   "source": [
    "name = \"John\"\n",
    "print(\"Hello, {}. You are {} years old.\".format(name, 28))"
   ]
  },
  {
   "cell_type": "markdown",
   "metadata": {},
   "source": [
    "inject - insert - вставлять\n",
    "approach - method"
   ]
  },
  {
   "cell_type": "code",
   "execution_count": 4,
   "metadata": {},
   "outputs": [
    {
     "name": "stdout",
     "output_type": "stream",
     "text": [
      "Hello, John! You are from Brooklyn.\n"
     ]
    }
   ],
   "source": [
    "city = \"Brooklyn\"\n",
    "print(f\"Hello, {name}! You are from {city}.\")"
   ]
  },
  {
   "cell_type": "code",
   "execution_count": 7,
   "metadata": {},
   "outputs": [
    {
     "name": "stdout",
     "output_type": "stream",
     "text": [
      "My favourite fruit is apple.\n"
     ]
    }
   ],
   "source": [
    "#in python 2\n",
    "fruit = \"apple\"\n",
    "print(\"My favourite fruit is %s.\"%(fruit))"
   ]
  },
  {
   "cell_type": "markdown",
   "metadata": {},
   "source": [
    "# # Strings: indexing and slicing"
   ]
  },
  {
   "cell_type": "code",
   "execution_count": 36,
   "metadata": {},
   "outputs": [
    {
     "name": "stdout",
     "output_type": "stream",
     "text": [
      "r\n",
      "6\n"
     ]
    }
   ],
   "source": [
    "name = \"Dinara\"\n",
    "print(name[4])\n",
    "print(len(name))"
   ]
  },
  {
   "cell_type": "code",
   "execution_count": 32,
   "metadata": {},
   "outputs": [
    {
     "name": "stdout",
     "output_type": "stream",
     "text": [
      "Dr\n"
     ]
    }
   ],
   "source": [
    "print(name[0:6:4])"
   ]
  },
  {
   "cell_type": "code",
   "execution_count": 126,
   "metadata": {},
   "outputs": [
    {
     "name": "stdout",
     "output_type": "stream",
     "text": [
      "aranid\n"
     ]
    }
   ],
   "source": [
    "print(name.lower()[::-1])"
   ]
  },
  {
   "cell_type": "markdown",
   "metadata": {},
   "source": [
    "# String manipulation"
   ]
  },
  {
   "cell_type": "code",
   "execution_count": 61,
   "metadata": {},
   "outputs": [
    {
     "name": "stdout",
     "output_type": "stream",
     "text": [
      "Brooklyn\n",
      "BROOKLYN\n",
      "brooklyn\n",
      "bruklyn\n",
      "4\n",
      "My name isDinara.I am Kazakh.\n",
      "My name is  Dinara.I am Kazakh.\n",
      "My name isDinara .I am Kazakh.\n",
      "['I', 'am', '20', 'years', 'old.']\n"
     ]
    }
   ],
   "source": [
    "#capital letter \n",
    "city = \"brooklyn\"\n",
    "person = \"  Dinara \"\n",
    "sentence = \"I am 20 years old.\"\n",
    "print(city.title())\n",
    "print(city.upper())\n",
    "print(city.lower())\n",
    "print(city.replace(\"oo\", \"u\"))\n",
    "print(city.find(\"k\"))\n",
    "\n",
    "print(\"My name is\" + person.strip() + \".I am Kazakh.\")\n",
    "print(\"My name is\" + person.rstrip() + \".I am Kazakh.\")\n",
    "print(\"My name is\" + person.lstrip() + \".I am Kazakh.\")\n",
    "\n",
    "print(sentence.split())"
   ]
  },
  {
   "cell_type": "markdown",
   "metadata": {},
   "source": [
    "# Week 2, Friday. First project: \"Printing receipts\""
   ]
  },
  {
   "cell_type": "code",
   "execution_count": 62,
   "metadata": {},
   "outputs": [],
   "source": [
    "p1_name, p1_price = \"Books\", 49.95\n",
    "p2_name, p2_price = \"Computer\", 579.99\n",
    "p3_name, p3_price = \"Monitor\", 899.96\n",
    "\n",
    "company_name = \"coding temple, inc\"\n",
    "company_address = \"283 Franklin St.\"\n",
    "company_city = \"Boston, MA\"\n",
    "\n",
    "message = \"Thanks for shopping with us today!\""
   ]
  },
  {
   "cell_type": "code",
   "execution_count": 116,
   "metadata": {},
   "outputs": [
    {
     "name": "stdout",
     "output_type": "stream",
     "text": [
      "**************************************************\n",
      "*\t\tCoding Temple, Inc\t\t *\n",
      "*\t\t283 Franklin St.\t\t *\n",
      "*\t\tBoston, MA\t\t\t *\n",
      "==================================================\n",
      "*\tProduct name\tProduct Price\t\t *\n",
      "*\tBooks\t\t$49.95\t\t\t *\n",
      "*\tComputer\t$579.99\t\t\t *\n",
      "*\tMonitor\t\t$899.96\t\t\t *\n",
      "==================================================\n",
      "*\t\t\tTotal\t\t\t *\n",
      "*\t\t\t$1529.9\t\t\t *\n",
      "==================================================\n",
      "*\t\t\t\t\t\t *\n",
      "*\tThanks for shopping with us today!\t *\n",
      "*\t\t\t\t\t\t *\n",
      "**************************************************\n"
     ]
    }
   ],
   "source": [
    "print(\"*\"*50)\n",
    "\n",
    "print(\"*\" + f\"\\t\\t{company_name.title()}\" + \"\\t\\t *\")\n",
    "print(\"*\" + \"\\t\\t{}\".format(company_address) + \"\\t\\t *\")\n",
    "print(\"*\" + f\"\\t\\t{company_city}\" + \"\\t\\t\\t *\")\n",
    "\n",
    "print(\"=\"*50)\n",
    "\n",
    "print(\"*\" +\"\\tProduct name\\tProduct Price\"+ \"\\t\\t *\")#$(dollar sign) is used for to make prices look like currency\n",
    "print(\"*\" +f\"\\t{p1_name}\\t\\t${p1_price}\" + \"\\t\\t\\t *\")\n",
    "print(\"*\" +f\"\\t{p2_name}\\t${p2_price}\"+ \"\\t\\t\\t *\")\n",
    "print(\"*\" +f\"\\t{p3_name}\\t\\t${p3_price}\"+ \"\\t\\t\\t *\")\n",
    "\n",
    "print(\"=\"*50)\n",
    "\n",
    "print(\"*\" + \"\\t\\t\\tTotal\" + \"\\t\\t\\t *\")\n",
    "total_price = p1_price + p2_price + p3_price\n",
    "print(\"*\" +f\"\\t\\t\\t${total_price}\"+ \"\\t\\t\\t *\")\n",
    "\n",
    "print(\"=\"*50)\n",
    "\n",
    "print(\"*\" + \"\\t\\t\\t\\t\\t\\t *\" + f\"\\n*\\t{message}\\t *\\n\" + \"*\" + \"\\t\\t\\t\\t\\t\\t *\")\n",
    "\n",
    "print(\"*\"*50)"
   ]
  },
  {
   "cell_type": "raw",
   "metadata": {},
   "source": [
    "Congratulations! As simple as it may be, it’s a huge milestone"
   ]
  },
  {
   "cell_type": "raw",
   "metadata": {},
   "source": [
    "\"Computers are only as smart as we program them to be\""
   ]
  },
  {
   "cell_type": "markdown",
   "metadata": {},
   "source": [
    "# User Input"
   ]
  },
  {
   "cell_type": "code",
   "execution_count": 139,
   "metadata": {},
   "outputs": [
    {
     "name": "stdout",
     "output_type": "stream",
     "text": [
      "Hello, Dinara\n",
      "\n",
      "Age: 20\n",
      "\n",
      "Country: Kazakhstan\n"
     ]
    }
   ],
   "source": [
    "ans = input(\"Hello, \")\n",
    "#print(f\"Hello, {ans}!\\n\")\n",
    "yo = input(\"\\nAge: \")\n",
    "#print(f\"{ans}'s age: {yo}\\n\")\n",
    "#country = input(f\"Where are you from, {ans}? \")\n",
    "cntr = input(\"\\nCountry: \")\n"
   ]
  },
  {
   "cell_type": "code",
   "execution_count": 146,
   "metadata": {},
   "outputs": [
    {
     "name": "stdout",
     "output_type": "stream",
     "text": [
      "Enter first number: 1\n",
      "Enter second number: 2\n",
      "Answer: 3\n"
     ]
    }
   ],
   "source": [
    "try:\n",
    "    num1 = int(input(\"Enter first number: \"))\n",
    "    num2 = int(input(\"Enter second number: \"))\n",
    "    answr = num1 + num2\n",
    "    print(f\"Answer: {num1+num2}\")\n",
    "\n",
    "except:\n",
    "    print(\"Enter number\")\n",
    "\n"
   ]
  },
  {
   "cell_type": "code",
   "execution_count": 147,
   "metadata": {},
   "outputs": [
    {
     "name": "stdout",
     "output_type": "stream",
     "text": [
      "<class 'bool'>\n"
     ]
    }
   ],
   "source": [
    "string = \"True\"\n",
    "new_string = bool(string)\n",
    "print(type(new_string))"
   ]
  },
  {
   "cell_type": "markdown",
   "metadata": {},
   "source": [
    "proceed - begin/start or continue"
   ]
  },
  {
   "cell_type": "markdown",
   "metadata": {},
   "source": [
    "# Week 3, Friday. Second project: Calculator"
   ]
  },
  {
   "cell_type": "code",
   "execution_count": 3,
   "metadata": {},
   "outputs": [
    {
     "name": "stdout",
     "output_type": "stream",
     "text": [
      "Please, choose operation (add/subtract/multiply/divide): divide\n",
      "You chose divide.\n",
      "Please, remember that order of numbers is important.\n",
      "First number: 17\n",
      "Second number: 25\n",
      "Would you like to reverse numbers(Yes/No): no\n",
      "Result: 0.68\n"
     ]
    }
   ],
   "source": [
    "operation = input(\"Please, choose operation (add/subtract/multiply/divide): \").lower()\n",
    "print(f\"You chose {operation}.\")\n",
    "print(\"Please, remember that order of numbers is important.\")\n",
    "num1 = int(input(\"First number: \"))\n",
    "num2 = int(input(\"Second number: \"))\n",
    "choice = input(\"Would you like to reverse numbers(Yes/No): \").lower()\n",
    "try:\n",
    "    num1, num2 = float(num1), float(num2)\n",
    "    if choice == \"no\":\n",
    "        if operation == \"add\":\n",
    "            result = num1 + num2\n",
    "            print(f\"Result: {result}\")\n",
    "        elif operation == \"subtract\":\n",
    "            result = num1 - num2\n",
    "            print(f\"Result: {result}\")\n",
    "        elif operation == \"multiply\":\n",
    "            result = num1 * num2\n",
    "            print(f\"Result: {result}\")\n",
    "        elif operation == \"divide\":\n",
    "            result = num1 / num2\n",
    "            print(f\"Result: {result}\")\n",
    "        else:\n",
    "            print(f\"Sorry, but {operation} is not operation.\")\n",
    "    else:\n",
    "        if operation == \"add\":\n",
    "            result = num1 + num2\n",
    "            print(f\"Result: {result}\")\n",
    "        elif operation == \"subtract\":\n",
    "            result = num2 - num1\n",
    "            print(f\"Result: {result}\")\n",
    "        elif operation == \"multiply\":\n",
    "            result = num1 * num2\n",
    "            print(f\"Result: {result}\")\n",
    "        elif operation == \"divide\":\n",
    "            result = num2 / num1\n",
    "            print(f\"Result: {result}\")\n",
    "        else:\n",
    "            print(f\"Sorry, but {operation} is not operation.\")\n",
    "        \n",
    "except:\n",
    "    print(\"Improper numbers used. Please try again.\")"
   ]
  },
  {
   "cell_type": "code",
   "execution_count": 27,
   "metadata": {},
   "outputs": [
    {
     "name": "stdout",
     "output_type": "stream",
     "text": [
      "Enter your age: 6\n",
      "Kid\n"
     ]
    }
   ],
   "source": [
    "age = int(input(\"Enter your age: \"))\n",
    "try:\n",
    "    if age in range(0,13):\n",
    "        print(\"Kid\")\n",
    "    elif age in range(13,20):\n",
    "        print(\"Teenager\")\n",
    "    elif age in range(20,31):\n",
    "        print(\"Young adult\")\n",
    "    elif age in range(31,65):\n",
    "        print(\"Adult\")\n",
    "    elif age >= 65:\n",
    "        print(\"Senior\")\n",
    "except:\n",
    "    print(\"Error\")"
   ]
  },
  {
   "cell_type": "markdown",
   "metadata": {},
   "source": [
    "# Lists and Loops"
   ]
  },
  {
   "cell_type": "code",
   "execution_count": 45,
   "metadata": {},
   "outputs": [
    {
     "name": "stdout",
     "output_type": "stream",
     "text": [
      "8190\n",
      "8190\n",
      "y\n",
      "140402351725488\n",
      "Before:  [0, 2.5, ['Adam', 8190], 'Kelly', True]\n",
      "After:  [0, 0, ['Adam', 8190], 'Kelly', True]\n",
      "zoo[0] =  0 zoo[1] =  0 \tTheir locations: 0: 9784832, 0: 9784832\n"
     ]
    }
   ],
   "source": [
    "zoo = [0, 2.5, [\"Adam\", 8190], \"Kelly\", True]\n",
    "print(zoo[2][1])#this also can be written as\n",
    "inner_zoo = zoo[2]\n",
    "print(inner_zoo[1])\n",
    "\n",
    "print(zoo[-2][-1])\n",
    "\n",
    "print(id(zoo[2][0]))\n",
    "\n",
    "print(\"Before: \", zoo)\n",
    "zoo[1] = zoo[0]\n",
    "print(\"After: \", zoo)\n",
    "print(\"zoo[0] = \", zoo[0], \"zoo[1] = \", zoo[1], f\"\\tTheir locations: {zoo[0]}: {id(zoo[0])}, {zoo[1]}: {id(zoo[1])}\")\n"
   ]
  },
  {
   "cell_type": "markdown",
   "metadata": {},
   "source": [
    "# Lists: Copying "
   ]
  },
  {
   "cell_type": "code",
   "execution_count": 46,
   "metadata": {},
   "outputs": [
    {
     "name": "stdout",
     "output_type": "stream",
     "text": [
      "[0.1, 2, 'James']\n"
     ]
    }
   ],
   "source": [
    "data = [0.1, 2, \"James\"]\n",
    "new_data = data[:]\n",
    "print(new_data)"
   ]
  },
  {
   "cell_type": "markdown",
   "metadata": {},
   "source": [
    "# For loop"
   ]
  },
  {
   "cell_type": "code",
   "execution_count": 6,
   "metadata": {},
   "outputs": [
    {
     "ename": "TypeError",
     "evalue": "list indices must be integers or slices, not str",
     "output_type": "error",
     "traceback": [
      "\u001b[0;31m---------------------------------------------------------------------------\u001b[0m",
      "\u001b[0;31mTypeError\u001b[0m                                 Traceback (most recent call last)",
      "\u001b[0;32m<ipython-input-6-fe054cb33d9e>\u001b[0m in \u001b[0;36m<module>\u001b[0;34m\u001b[0m\n\u001b[1;32m      2\u001b[0m \u001b[0;32mfor\u001b[0m \u001b[0mnum\u001b[0m \u001b[0;32min\u001b[0m \u001b[0mrange\u001b[0m\u001b[0;34m(\u001b[0m\u001b[0;36m6\u001b[0m\u001b[0;34m)\u001b[0m\u001b[0;34m:\u001b[0m\u001b[0;34m\u001b[0m\u001b[0;34m\u001b[0m\u001b[0m\n\u001b[1;32m      3\u001b[0m     \u001b[0;32mfor\u001b[0m \u001b[0mp\u001b[0m \u001b[0;32min\u001b[0m \u001b[0mstudents\u001b[0m\u001b[0;34m:\u001b[0m\u001b[0;34m\u001b[0m\u001b[0;34m\u001b[0m\u001b[0m\n\u001b[0;32m----> 4\u001b[0;31m         \u001b[0mprint\u001b[0m\u001b[0;34m(\u001b[0m\u001b[0;34mf\"Value {num}: \"\u001b[0m\u001b[0;34m,\u001b[0m \u001b[0mstudents\u001b[0m\u001b[0;34m[\u001b[0m\u001b[0mp\u001b[0m\u001b[0;34m]\u001b[0m\u001b[0;34m)\u001b[0m\u001b[0;34m\u001b[0m\u001b[0;34m\u001b[0m\u001b[0m\n\u001b[0m",
      "\u001b[0;31mTypeError\u001b[0m: list indices must be integers or slices, not str"
     ]
    }
   ],
   "source": [
    "students = [\"Adam\", \"Jessica\", \"Sarah\", \"Brandon\", \"Kate\", \"Molly\", \"Mathew\"]\n",
    "for num in range(6):\n",
    "    for p in students:\n",
    "        print(f\"Value {num}: \", students[p])"
   ]
  },
  {
   "cell_type": "raw",
   "metadata": {},
   "source": [
    "for num in range(1,10,2):\n",
    "    print(f\"Odd numbers: {num}\")\n",
    "print(\"\")\n",
    "for num in range(2,10,2):\n",
    "    print(f\"Even numbers: {num}\")\n",
    "    "
   ]
  },
  {
   "cell_type": "code",
   "execution_count": 31,
   "metadata": {},
   "outputs": [
    {
     "name": "stdout",
     "output_type": "stream",
     "text": [
      "Letter D\n",
      "Letter n\n",
      "Letter a\n"
     ]
    }
   ],
   "source": [
    "name = \"Dinara\"\n",
    "for l in name:\n",
    "    if l == \"i\":\n",
    "        continue\n",
    "    if l == \"r\":\n",
    "        break\n",
    "    print(f\"Letter {l}\")\n",
    "\n",
    "for a in range(5):\n",
    "    pass #does nothing, used for framing future code here\n",
    "    "
   ]
  },
  {
   "cell_type": "code",
   "execution_count": 32,
   "metadata": {},
   "outputs": [
    {
     "name": "stdout",
     "output_type": "stream",
     "text": [
      "3\n",
      "6\n",
      "9\n",
      "12\n",
      "15\n",
      "18\n",
      "21\n",
      "24\n",
      "27\n",
      "30\n",
      "33\n",
      "36\n",
      "39\n",
      "42\n",
      "45\n",
      "48\n",
      "51\n",
      "54\n",
      "57\n",
      "60\n",
      "63\n",
      "66\n",
      "69\n",
      "72\n",
      "75\n",
      "78\n",
      "81\n",
      "84\n",
      "87\n",
      "90\n",
      "93\n",
      "96\n",
      "99\n"
     ]
    }
   ],
   "source": [
    "for num in range(1,100):\n",
    "    if num%3==0:\n",
    "        print(num)"
   ]
  },
  {
   "cell_type": "code",
   "execution_count": 37,
   "metadata": {},
   "outputs": [
    {
     "name": "stdout",
     "output_type": "stream",
     "text": [
      "Write a word: My name is Dinara\n",
      "y\n",
      "a\n",
      "e\n",
      "i\n",
      "i\n",
      "a\n",
      "a\n"
     ]
    }
   ],
   "source": [
    "word = input(\"Write a word: \").lower()\n",
    "vowels_list = ['a', 'e', 'i', 'o', 'y']\n",
    "for vowel in word:\n",
    "    if vowel in vowels_list:\n",
    "        print(vowel)"
   ]
  },
  {
   "cell_type": "markdown",
   "metadata": {},
   "source": [
    "# While loop"
   ]
  },
  {
   "cell_type": "code",
   "execution_count": 38,
   "metadata": {},
   "outputs": [
    {
     "name": "stdout",
     "output_type": "stream",
     "text": [
      "7\n",
      "6\n",
      "5\n",
      "4\n",
      "3\n",
      "2\n",
      "1\n"
     ]
    }
   ],
   "source": [
    "stars = 7\n",
    "while stars>0:\n",
    "    print(stars)\n",
    "    stars-=1 #forgetting this decrement will result in infinite loop"
   ]
  },
  {
   "cell_type": "markdown",
   "metadata": {},
   "source": [
    "Counting with for loop, conditions with while loop"
   ]
  },
  {
   "cell_type": "markdown",
   "metadata": {},
   "source": [
    "# Nested loops"
   ]
  },
  {
   "cell_type": "code",
   "execution_count": 52,
   "metadata": {},
   "outputs": [
    {
     "name": "stdout",
     "output_type": "stream",
     "text": [
      "0 0\n",
      "0 1\n",
      "0 2\n",
      "1 0\n",
      "1 1\n",
      "1 2\n"
     ]
    }
   ],
   "source": [
    "for i in range(2):\n",
    "    for j in range(3):\n",
    "        print(i, j)"
   ]
  },
  {
   "cell_type": "code",
   "execution_count": 55,
   "metadata": {},
   "outputs": [
    {
     "name": "stdout",
     "output_type": "stream",
     "text": [
      "0\n",
      "1\n",
      "2\n"
     ]
    }
   ],
   "source": [
    "game_over = True\n",
    "while game_over:\n",
    "    for num in range(5):\n",
    "        if num == 3:\n",
    "            game_over = False\n",
    "            break\n",
    "        print(num)"
   ]
  },
  {
   "cell_type": "code",
   "execution_count": null,
   "metadata": {},
   "outputs": [],
   "source": [
    "go = True\n",
    "while go:\n",
    "    try:\n",
    "        user = input(\"Enter something: \")\n",
    "        if user == \"quit\":\n",
    "            go = False\n",
    "            break\n",
    "    except:\n",
    "        print(\"You didn't enter something\")"
   ]
  },
  {
   "cell_type": "markdown",
   "metadata": {},
   "source": [
    "# Lists:insert and append, pop and remove"
   ]
  },
  {
   "cell_type": "code",
   "execution_count": 9,
   "metadata": {},
   "outputs": [
    {
     "name": "stdout",
     "output_type": "stream",
     "text": [
      "['orange', 'apple', 'pineapple']\n",
      " \n",
      "['orange', 'apple', 'pineapple', 'cucumber']\n",
      " \n",
      "apple \n",
      " ['orange', 'pineapple']\n",
      " \n",
      "['pineapple']\n"
     ]
    }
   ],
   "source": [
    "a_list = ['orange', 'pineapple']\n",
    "a_list.insert(1, 'apple')#adds item where you want it to put\n",
    "print(a_list)\n",
    "\n",
    "print(\" \")\n",
    "\n",
    "a_list.append('cucumber')#adds item to the end of the list\n",
    "print(a_list)\n",
    "\n",
    "print(\" \")\n",
    "\n",
    "a_list.pop()\n",
    "removed_item = a_list.pop(1)#pop removes item by index\n",
    "print(removed_item, \"\\n\", a_list)\n",
    "\n",
    "print(\" \")\n",
    "\n",
    "a_list.remove(\"orange\")#remove removes item by value\n",
    "print(a_list)"
   ]
  },
  {
   "cell_type": "markdown",
   "metadata": {},
   "source": [
    "# Lists: sorted() and .sort()"
   ]
  },
  {
   "cell_type": "code",
   "execution_count": 15,
   "metadata": {},
   "outputs": [
    {
     "name": "stdout",
     "output_type": "stream",
     "text": [
      "[1, 99, 0.5, 64, 20] \n",
      " [0.5, 1, 20, 64, 99]\n",
      " \n",
      "[2, 18, 25, 46, 66]\n"
     ]
    }
   ],
   "source": [
    "s = [1, 99, 0.5, 64, 20]\n",
    "new_s = sorted(s)#needs to be saved to a new variable\n",
    "print(s, \"\\n\", new_s)\n",
    "\n",
    "print(\" \")\n",
    "\n",
    "t = [2, 46, 18, 25, 66]\n",
    "t.sort()#sorts directly without being perceived to a new variable\n",
    "print(t)"
   ]
  },
  {
   "cell_type": "markdown",
   "metadata": {},
   "source": [
    "# Checking an empty list"
   ]
  },
  {
   "cell_type": "code",
   "execution_count": 16,
   "metadata": {},
   "outputs": [
    {
     "name": "stdout",
     "output_type": "stream",
     "text": [
      "empty\n"
     ]
    }
   ],
   "source": [
    "nums = [ ]\n",
    "if not nums:\n",
    "    print(\"empty\")"
   ]
  },
  {
   "cell_type": "code",
   "execution_count": 25,
   "metadata": {},
   "outputs": [
    {
     "name": "stdout",
     "output_type": "stream",
     "text": [
      "['Amanda', 'Bob', 'Kenny']\n",
      " \n",
      "[1]\n"
     ]
    }
   ],
   "source": [
    "names = ['Bob', 'Kenny', 'Amanda', 'Bob', 'Kenny']\n",
    "for n in names[:]:\n",
    "    if names.count(n)>1:\n",
    "        names.remove(n)\n",
    "print(names)\n",
    "\n",
    "print(\" \")\n",
    "\n",
    "ones = [1,1,1,1]\n",
    "for i in ones[:]:\n",
    "    if ones.count(i) > 1:\n",
    "        ones.remove(i)\n",
    "print(ones)"
   ]
  },
  {
   "cell_type": "markdown",
   "metadata": {},
   "source": [
    "# Week 4, Third Project: Hangman"
   ]
  },
  {
   "cell_type": "code",
   "execution_count": 39,
   "metadata": {},
   "outputs": [],
   "source": [
    "from random import choice\n",
    "from IPython.display import clear_output"
   ]
  },
  {
   "cell_type": "code",
   "execution_count": 40,
   "metadata": {},
   "outputs": [],
   "source": [
    "words = [\"tree\", \"basket\", \"chair\", \"paper\", \"python\"]\n",
    "word = choice(words)\n",
    "guessed, lives, game_over = [], 7, False"
   ]
  },
  {
   "cell_type": "code",
   "execution_count": 41,
   "metadata": {},
   "outputs": [],
   "source": [
    "guesses = [\"_ \"] * len(word)"
   ]
  },
  {
   "cell_type": "code",
   "execution_count": 42,
   "metadata": {},
   "outputs": [
    {
     "name": "stdout",
     "output_type": "stream",
     "text": [
      "Congratulation, you guessed it correctly!\n"
     ]
    }
   ],
   "source": [
    "while not game_over:\n",
    "    hidden_word = \"\".join(guesses)\n",
    "    print(f\"Your guessed letters: {guessed}\")\n",
    "    print(f\"Word to guess: {hidden_word}\")\n",
    "    print(f\"Lives: {lives}\")\n",
    "    \n",
    "    ans = input(\"Type quit or guess a letter: \").lower()\n",
    "    clear_output()\n",
    "    if ans == \"quit\":\n",
    "        print(\"Thanks for playing.\")\n",
    "        game_over = True\n",
    "    elif word == \"\".join(guesses):\n",
    "        print(\"Congratulation, you guessed it correctly!\")\n",
    "        game_over = True\n",
    "    elif ans in word and ans not in guessed:\n",
    "        print(\"You guessed correctly!\")\n",
    "        for i in range(len(word)):\n",
    "            if word[i] == ans:\n",
    "                guesses[i] = ans\n",
    "    elif ans in guessed:\n",
    "        print(\"You already guessed that. Try again\")\n",
    "    else:\n",
    "        lives-=1\n",
    "        print(\"Incorrect, minus 1 life...\")\n",
    "        if ans not in guessed:\n",
    "            guessed.append(ans)\n",
    "        \n",
    "        if lives <= 0:\n",
    "            print(\"You lost:(\")\n",
    "            game_over = True\n",
    "            \n",
    "    "
   ]
  },
  {
   "cell_type": "code",
   "execution_count": 34,
   "metadata": {},
   "outputs": [
    {
     "name": "stdout",
     "output_type": "stream",
     "text": [
      "b\n"
     ]
    }
   ],
   "source": [
    "print(\"b\")"
   ]
  },
  {
   "cell_type": "code",
   "execution_count": null,
   "metadata": {},
   "outputs": [],
   "source": []
  },
  {
   "cell_type": "code",
   "execution_count": 46,
   "metadata": {},
   "outputs": [
    {
     "name": "stdout",
     "output_type": "stream",
     "text": [
      "Number: 5\n",
      "     \n",
      "    x\n",
      "   xx\n",
      "  xxx\n",
      " xxxx\n"
     ]
    }
   ],
   "source": [
    "ans = int(input(\"Number: \"))\n",
    "for n in range(ans):\n",
    "    print(\" \" * (ans - n) + 'x' * n)"
   ]
  },
  {
   "cell_type": "markdown",
   "metadata": {},
   "source": [
    "# Functions: built-in and udf-s(user defined functions)"
   ]
  },
  {
   "cell_type": "code",
   "execution_count": 47,
   "metadata": {},
   "outputs": [
    {
     "name": "stdout",
     "output_type": "stream",
     "text": [
      "1\n",
      "4\n",
      "9\n",
      "16\n",
      "25\n"
     ]
    }
   ],
   "source": [
    "numbers = [1,2,3,4,5]\n",
    "def printNumSquare(num):\n",
    "    for i in num:\n",
    "        print(i**2)\n",
    "\n",
    "printNumSquare(numbers)\n",
    "        "
   ]
  },
  {
   "cell_type": "code",
   "execution_count": 50,
   "metadata": {},
   "outputs": [
    {
     "name": "stdout",
     "output_type": "stream",
     "text": [
      "Dinara Maratkyzy Bolatbek\n",
      "Dinara Bolatbek\n"
     ]
    }
   ],
   "source": [
    "def printPersonName(first, last, middle=\"\"):\n",
    "    if middle:\n",
    "        print(f\"{first} {middle} {last}\")\n",
    "    else:\n",
    "        print(f\"{first} {last}\")\n",
    "printPersonName(\"Dinara\", \"Bolatbek\", \"Maratkyzy\")\n",
    "printPersonName(\"Dinara\", \"Bolatbek\")"
   ]
  },
  {
   "cell_type": "markdown",
   "metadata": {},
   "source": [
    "explicitly - clearly, in detail"
   ]
  },
  {
   "cell_type": "code",
   "execution_count": 52,
   "metadata": {},
   "outputs": [
    {
     "name": "stdout",
     "output_type": "stream",
     "text": [
      "<class 'tuple'>\n",
      "28\n",
      "True\n",
      "Jessy\n"
     ]
    }
   ],
   "source": [
    "def outputData(name, *args):\n",
    "    print(type(args))\n",
    "    for arg in args:\n",
    "        print(arg)\n",
    "outputData(\"Holly\", 28, True, \"Jessy\")"
   ]
  },
  {
   "cell_type": "code",
   "execution_count": 69,
   "metadata": {},
   "outputs": [
    {
     "name": "stdout",
     "output_type": "stream",
     "text": [
      "Result: 45\n",
      "Result: 145\n",
      "Result: 245\n"
     ]
    }
   ],
   "source": [
    "def func1(*args):\n",
    "    z = 0\n",
    "    for arg in args:\n",
    "        z+=arg\n",
    "    print(f\"Result: {z}\")\n",
    "func1(1,2,3,4,5,6,7,8,9)\n",
    "func1(10,11,12,13,14,15,16,17,18,19)\n",
    "func1(20,21,22,23,24,25,26,27,28,29)"
   ]
  },
  {
   "cell_type": "code",
   "execution_count": 77,
   "metadata": {},
   "outputs": [
    {
     "name": "stdout",
     "output_type": "stream",
     "text": [
      "{'kwargs_1': 'Zorro', 'a': 'Apple', 'r': 'reddit'}\n"
     ]
    }
   ],
   "source": [
    "def func2(**kwargs):\n",
    "    print(kwargs)\n",
    "func2(kwargs_1 = \"Zorro\", a = \"Apple\", r = \"reddit\")"
   ]
  },
  {
   "cell_type": "markdown",
   "metadata": {},
   "source": [
    "# Functions: scope(область видимости): global, function and class scopes\n"
   ]
  },
  {
   "cell_type": "code",
   "execution_count": 82,
   "metadata": {},
   "outputs": [
    {
     "name": "stdout",
     "output_type": "stream",
     "text": [
      "Hello\n"
     ]
    }
   ],
   "source": [
    "def f():\n",
    "    word = \"Hello\"\n",
    "    return word\n",
    "value = f()\n",
    "print(value)"
   ]
  },
  {
   "cell_type": "markdown",
   "metadata": {},
   "source": [
    "# Week 5, Fourth project: Shopping cart"
   ]
  },
  {
   "cell_type": "code",
   "execution_count": 86,
   "metadata": {},
   "outputs": [
    {
     "name": "stdout",
     "output_type": "stream",
     "text": [
      "Your cart is empty.\n"
     ]
    }
   ],
   "source": [
    "from IPython.display import clear_output\n",
    "cart = [ ]\n",
    "\n",
    "def addItem(item):\n",
    "    clear_output()\n",
    "    cart.append(item)\n",
    "    print(f\"{item} has been added.\")\n",
    "\n",
    "def removeItem(item):\n",
    "    clear_output()\n",
    "    try:\n",
    "        cart.remove(item)\n",
    "        print(f\"{item} has been removed.\")\n",
    "    except:\n",
    "        print(f\"Sorry, that item couldn't be removed.\")\n",
    "        \n",
    "def showCart(item):\n",
    "    clear_output()\n",
    "    if cart:\n",
    "        print(\"Here is your cart: \")\n",
    "        for item in cart:\n",
    "            print(f\"- {item}\")\n",
    "    else:\n",
    "        print(\"Your cart is empty.\")\n",
    "        \n",
    "def clearCart(item):\n",
    "    clear_output()\n",
    "    cart.clear()\n",
    "    print(\"Your cart is empty.\")\n",
    "    \n",
    "def main():\n",
    "    done = False\n",
    "    while not done:\n",
    "        ans = input(\"quit/add/remove/show/clear: \").lower()\n",
    "        \n",
    "        if ans == \"quit\":\n",
    "            print(\"Thanks for being with us.\")\n",
    "            showCart(item)\n",
    "            done = True\n",
    "        elif ans == \"add\":\n",
    "            item = input(\"What would you like to add: \").title()\n",
    "            addItem(item)\n",
    "        elif ans == \"remove\":\n",
    "            item = input(\"What would you like to remove: \").title()\n",
    "            removeItem(item)\n",
    "        elif ans == \"show\":\n",
    "            showCart(item)\n",
    "        elif ans == \"clear\":\n",
    "            clearCart(item)\n",
    "        else:\n",
    "            print(\"Sorry, try again.\")\n",
    "main()"
   ]
  },
  {
   "cell_type": "markdown",
   "metadata": {},
   "source": [
    "# Dictionaries"
   ]
  },
  {
   "cell_type": "code",
   "execution_count": 91,
   "metadata": {},
   "outputs": [
    {
     "ename": "SyntaxError",
     "evalue": "invalid syntax (<ipython-input-91-e90bc4c8c84e>, line 5)",
     "output_type": "error",
     "traceback": [
      "\u001b[0;36m  File \u001b[0;32m\"<ipython-input-91-e90bc4c8c84e>\"\u001b[0;36m, line \u001b[0;32m5\u001b[0m\n\u001b[0;31m    находится ли айтем по ключу в словаре\"\"\"\u001b[0m\n\u001b[0m                                            \n^\u001b[0m\n\u001b[0;31mSyntaxError\u001b[0m\u001b[0;31m:\u001b[0m invalid syntax\n"
     ]
    }
   ],
   "source": [
    "#get item from dictionary by key\n",
    "person = {'name':'Dinara'}\n",
    "print(person.get('name'))#better than print(person['name'])\n",
    "print(person.get('age'), 'Age is not available.')#безболезненный способ узнать находится ли айтем по ключу в словаре\n"
   ]
  },
  {
   "cell_type": "code",
   "execution_count": 97,
   "metadata": {},
   "outputs": [
    {
     "name": "stdout",
     "output_type": "stream",
     "text": [
      "\tMy Porsche\n",
      "\n",
      "Year: 2020\tColour: Yellow\n"
     ]
    }
   ],
   "source": [
    "car = {'year':'2020'}\n",
    "car['colour'] = 'Yellow'\n",
    "print('\\tMy Porsche\\n')\n",
    "print(f\"Year: {car['year']}\\tColour: {car['colour']}\")"
   ]
  },
  {
   "cell_type": "code",
   "execution_count": 100,
   "metadata": {},
   "outputs": [
    {
     "name": "stdout",
     "output_type": "stream",
     "text": [
      "Your name: k\n",
      "'Name' : k\n"
     ]
    }
   ],
   "source": [
    "ans = input(\"Your name: \")\n",
    "people = {'name' : ans}\n",
    "for value in people.values():\n",
    "    \n",
    "    print(f\"'Name' : {value}\")"
   ]
  },
  {
   "cell_type": "markdown",
   "metadata": {},
   "source": [
    "# Files"
   ]
  },
  {
   "cell_type": "code",
   "execution_count": 2,
   "metadata": {},
   "outputs": [],
   "source": [
    "f = open(\"/home/user/Desktop/test.odt\", 'w+')#write+read\n",
    "f.write(\"test2\")\n",
    "f.close()"
   ]
  },
  {
   "cell_type": "code",
   "execution_count": 3,
   "metadata": {},
   "outputs": [],
   "source": [
    "f = open(\"/home/user/Desktop/test.odt\", 'a')#append\n",
    "f.write(\"test3\")\n",
    "f.close()"
   ]
  },
  {
   "cell_type": "code",
   "execution_count": 4,
   "metadata": {},
   "outputs": [],
   "source": [
    "f = open(\"/home/user/Desktop/test.odt\", 'a')#append\n",
    "f.write(\"\\ntest4\")\n",
    "f.close()"
   ]
  },
  {
   "cell_type": "code",
   "execution_count": 5,
   "metadata": {},
   "outputs": [
    {
     "name": "stdout",
     "output_type": "stream",
     "text": [
      "test2test3\n",
      "test4\n"
     ]
    }
   ],
   "source": [
    "#reading from file\n",
    "f = open(\"/home/user/Desktop/test.odt\", 'r')\n",
    "data = f.read()\n",
    "f.close()\n",
    "print(data)"
   ]
  },
  {
   "cell_type": "markdown",
   "metadata": {},
   "source": [
    "# CSV files"
   ]
  },
  {
   "cell_type": "code",
   "execution_count": 9,
   "metadata": {},
   "outputs": [],
   "source": [
    "#create and open new csv file\n",
    "import csv\n",
    "with open(\"/home/user/Desktop/testingcsv.csv\", mode = 'w', newline = \"\") as f:\n",
    "    writer = csv.writer(f, delimiter = \",\")\n",
    "    writer.writerow(['Name', 'City', 'Age'])\n",
    "    writer.writerow(['Liza', 'Brooklyn', '20'])"
   ]
  },
  {
   "cell_type": "code",
   "execution_count": 10,
   "metadata": {},
   "outputs": [
    {
     "name": "stdout",
     "output_type": "stream",
     "text": [
      "['Name', 'City', 'Age']\n",
      "['Liza', 'Brooklyn', '20']\n"
     ]
    }
   ],
   "source": [
    "#reading from csv\n",
    "with open(\"/home/user/Desktop/testingcsv.csv\", mode = 'r') as f:\n",
    "    reader = csv.reader(f, delimiter=',')\n",
    "    for word in reader:\n",
    "        print(word)"
   ]
  },
  {
   "cell_type": "markdown",
   "metadata": {},
   "source": [
    "‘r’ This is the default mode. It opens the file for reading only.\n",
    "‘w’ Opens file for writing. If file doesn’t exist, it creates one.\n",
    "‘x’ Creates a new file. If file exists, the operation fails.\n",
    "‘a’ Open in append mode. If file doesn’t exist, it creates one.\n",
    "‘b’ Open in binary mode.\n",
    "‘+’ Will open a file for reading and writing. Good for updating."
   ]
  },
  {
   "cell_type": "code",
   "execution_count": 12,
   "metadata": {},
   "outputs": [
    {
     "name": "stdout",
     "output_type": "stream",
     "text": [
      "Your name: Mark\n",
      "Your favourite number: 8\n"
     ]
    }
   ],
   "source": [
    "My = input(\"Your name: \")\n",
    "user = input(\"Your favourite number: \")\n",
    "usernumf = open(\"/home/user/Desktop/userfavnum.odt\", 'w+')\n",
    "usernumf.write(f\"{My}'s favourite number is {user}.\")\n",
    "usernumf.close()"
   ]
  },
  {
   "cell_type": "code",
   "execution_count": 14,
   "metadata": {},
   "outputs": [
    {
     "name": "stdout",
     "output_type": "stream",
     "text": [
      "Mark's favourite number is 8\n"
     ]
    }
   ],
   "source": [
    "somefile = open(\"/home/user/Desktop/userfavnum.odt\", 'r')\n",
    "info = somefile.read()    \n",
    "f.close()\n",
    "print(info)"
   ]
  },
  {
   "cell_type": "code",
   "execution_count": 17,
   "metadata": {},
   "outputs": [
    {
     "name": "stdout",
     "output_type": "stream",
     "text": [
      "Your name: John\n",
      "Your favourite number: 88\n",
      "['Name', 'Number']\n",
      "['John', '88']\n"
     ]
    }
   ],
   "source": [
    "import csv\n",
    "My = input(\"Your name: \")\n",
    "user = input(\"Your favourite number: \")\n",
    "with open(\"/home/user/Desktop/userfavnum.csv\", mode='w', newline='') as f:\n",
    "    writer = csv.writer(f, delimiter=',')\n",
    "    writer.writerow(['Name', 'Number'])\n",
    "    writer.writerow([f'{My}', f'{user}'])\n",
    "\n",
    "with open(\"/home/user/Desktop/userfavnum.csv\", mode='r') as f:    \n",
    "    reader = csv.reader(f, delimiter=',')\n",
    "    for i in reader:\n",
    "        print(i)"
   ]
  },
  {
   "cell_type": "code",
   "execution_count": null,
   "metadata": {},
   "outputs": [],
   "source": [
    "done = False\n",
    "ans = input(\"Choose an option (log in/log out/register/quit): \").lower()\n",
    "while not done:\n",
    "    try: \n",
    "        if ans == \"quit\":\n",
    "            print(\"Thanks for choosing us!\")\n",
    "            done = True\n",
    "        elif ans == \"log in\":\n",
    "            pass\n",
    "        elif ans == \"log out\":\n",
    "            pass\n",
    "        elif ans == \"register\":\n",
    "            pass\n",
    "    except:\n",
    "        print(\"You haven't chosen any option. Please, try again.\")\n",
    "    "
   ]
  },
  {
   "cell_type": "code",
   "execution_count": 33,
   "metadata": {},
   "outputs": [
    {
     "name": "stdout",
     "output_type": "stream",
     "text": [
      "Thanks for using our program!\n"
     ]
    }
   ],
   "source": [
    "import csv\n",
    "from IPython.display import clear_output\n",
    "\n",
    "def registerUser():\n",
    "    with open(\"/home/user/Desktop/db.csv\", mode='a', newline='') as f:\n",
    "        writer = csv.writer(f, delimiter=',')\n",
    "        email = input(\"E-mail: \")\n",
    "        password = input(\"Password: \")\n",
    "        password2 = input(\"Confirm password: \")\n",
    "        #clear_output()\n",
    "        if password == password2:\n",
    "            writer.writerow([email, password])\n",
    "            print(\"You are now registered.\")\n",
    "        else:\n",
    "            print(\"Please, try again.\")\n",
    "        \n",
    "        \n",
    "def loginUser():\n",
    "    email = input(\"E-mail: \")\n",
    "    password = input(\"Password: \")\n",
    "    \n",
    "    with open(\"/home/user/Desktop/db.csv\", mode='r') as f:\n",
    "        reader = csv.reader(f, delimiter=',')\n",
    "        for row in reader:\n",
    "            if row == [email, password]:\n",
    "                print(\"You are logged in.\")\n",
    "                return True\n",
    "            else:\n",
    "                print(\"No such user.\")\n",
    "    print(\"Error, please try again.\")\n",
    "    return False\n",
    "    \n",
    "\n",
    "#main loop variables\n",
    "active = True\n",
    "logged_in = False\n",
    "#main loop\n",
    "while active:\n",
    "    if logged_in:\n",
    "        print(\"1. Log out\\n2. Quit\")\n",
    "    else:\n",
    "        print(\"1. Log in\\n2. Register\\n3. Quit\")\n",
    "    \n",
    "    choice = input(\"Log in/log out/register/quit: \").lower()\n",
    "    \n",
    "    clear_output()\n",
    "    \n",
    "    if choice == \"log in\" and logged_in == False:\n",
    "        logged_in = loginUser()\n",
    "    \n",
    "    elif choice == \"log out\" and logged_in == True:\n",
    "        logged_in = False\n",
    "        print(\"You are now logged out.\")    \n",
    "    \n",
    "    elif choice == \"register\" and logged_in == False:\n",
    "        logged_in = registerUser()\n",
    "    \n",
    "    elif choice == \"quit\":\n",
    "        print(\"Thanks for using our program!\")\n",
    "        active = False\n",
    "    \n",
    "    else:\n",
    "        print(\"Something went wrong...Please, try again.\")\n",
    "\n",
    "    \n"
   ]
  },
  {
   "cell_type": "markdown",
   "metadata": {},
   "source": [
    "blueprint - plan, project, program , drawing"
   ]
  },
  {
   "cell_type": "markdown",
   "metadata": {},
   "source": [
    "# OOP"
   ]
  },
  {
   "cell_type": "markdown",
   "metadata": {},
   "source": [
    "1. Class definition(определение класса)\n",
    "2. Instantiation(создание объекта класса)"
   ]
  },
  {
   "cell_type": "markdown",
   "metadata": {},
   "source": [
    "# Attributes of class"
   ]
  },
  {
   "cell_type": "code",
   "execution_count": 36,
   "metadata": {},
   "outputs": [
    {
     "name": "stdout",
     "output_type": "stream",
     "text": [
      "8730058262230\n",
      "red\n",
      "Changed colour of ford(and only):  black\n"
     ]
    }
   ],
   "source": [
    "class Car():\n",
    "    colour = \"red\"#attribute of class\n",
    "ford = Car()\n",
    "print(hash(ford))#hash is used to get numerical location in memory for the variable\n",
    "print(ford.colour)\n",
    "ford.colour = \"black\"#changing attribute for Car() class object \"ford\"\n",
    "print(\"Changed colour of ford(and only): \", ford.colour)"
   ]
  },
  {
   "cell_type": "code",
   "execution_count": null,
   "metadata": {},
   "outputs": [],
   "source": []
  },
  {
   "cell_type": "raw",
   "metadata": {},
   "source": [
    "# __init__(self, attribute)"
   ]
  },
  {
   "cell_type": "code",
   "execution_count": 38,
   "metadata": {},
   "outputs": [
    {
     "name": "stdout",
     "output_type": "stream",
     "text": [
      "yellow\n"
     ]
    }
   ],
   "source": [
    "class Car():\n",
    "    def __init__(self, colour):#__init__() allows us to easily create class instances with personalized attributes\n",
    "        self.colour = colour\n",
    "\n",
    "ford = Car(\"yellow\")#self will be ignored and we can set ford's colour as what we want changing the word here in brackets\n",
    "print(ford.colour)"
   ]
  },
  {
   "cell_type": "code",
   "execution_count": 40,
   "metadata": {},
   "outputs": [
    {
     "name": "stdout",
     "output_type": "stream",
     "text": [
      "white 2020\n"
     ]
    }
   ],
   "source": [
    "class Car():\n",
    "    def __init__(self, colour, year):\n",
    "        self.colour = colour\n",
    "        self.year = year\n",
    "ford = Car(\"white\", 2020)\n",
    "print(ford.colour, ford.year)"
   ]
  },
  {
   "cell_type": "code",
   "execution_count": 41,
   "metadata": {},
   "outputs": [
    {
     "ename": "AttributeError",
     "evalue": "type object 'Car' has no attribute 'colour'",
     "output_type": "error",
     "traceback": [
      "\u001b[0;31m---------------------------------------------------------------------------\u001b[0m",
      "\u001b[0;31mAttributeError\u001b[0m                            Traceback (most recent call last)",
      "\u001b[0;32m<ipython-input-41-7d4631881c68>\u001b[0m in \u001b[0;36m<module>\u001b[0;34m\u001b[0m\n\u001b[1;32m      4\u001b[0m         \u001b[0mself\u001b[0m\u001b[0;34m.\u001b[0m\u001b[0mcolour\u001b[0m \u001b[0;34m=\u001b[0m \u001b[0mcolour\u001b[0m\u001b[0;34m\u001b[0m\u001b[0;34m\u001b[0m\u001b[0m\n\u001b[1;32m      5\u001b[0m \u001b[0;34m\u001b[0m\u001b[0m\n\u001b[0;32m----> 6\u001b[0;31m \u001b[0mprint\u001b[0m\u001b[0;34m(\u001b[0m\u001b[0mCar\u001b[0m\u001b[0;34m.\u001b[0m\u001b[0mcolour\u001b[0m\u001b[0;34m)\u001b[0m\u001b[0;31m#won't work as colour is instance attribute\u001b[0m\u001b[0;34m\u001b[0m\u001b[0;34m\u001b[0m\u001b[0m\n\u001b[0m\u001b[1;32m      7\u001b[0m \u001b[0mprint\u001b[0m\u001b[0;34m(\u001b[0m\u001b[0mCar\u001b[0m\u001b[0;34m.\u001b[0m\u001b[0msound\u001b[0m\u001b[0;34m)\u001b[0m\u001b[0;34m\u001b[0m\u001b[0;34m\u001b[0m\u001b[0m\n",
      "\u001b[0;31mAttributeError\u001b[0m: type object 'Car' has no attribute 'colour'"
     ]
    }
   ],
   "source": [
    "class Car():\n",
    "    sound = \"beep\"\n",
    "    def __init__(self, colour):\n",
    "        self.colour = colour\n",
    "\n",
    "print(Car.colour)#won't work as colour is instance attribute created for instances of Car(), not Car() itself\n",
    "print(Car.sound)"
   ]
  },
  {
   "cell_type": "code",
   "execution_count": 44,
   "metadata": {},
   "outputs": [
    {
     "name": "stdout",
     "output_type": "stream",
     "text": [
      "Enter your name: Dinara\n",
      "Dinara\n"
     ]
    }
   ],
   "source": [
    "name = input(\"Enter your name: \")\n",
    "\n",
    "class Person():\n",
    "    def __init__(self, name):\n",
    "        self.name = name\n",
    "        \n",
    "User = Person(name)\n",
    "print(User.name)\n"
   ]
  },
  {
   "cell_type": "code",
   "execution_count": 47,
   "metadata": {},
   "outputs": [
    {
     "name": "stdout",
     "output_type": "stream",
     "text": [
      "Sammi\n",
      "Casey\n"
     ]
    }
   ],
   "source": [
    "class Dog():\n",
    "    species = \"Canine\"\n",
    "    \n",
    "    def __init__(self, name):\n",
    "        self.name = name\n",
    "        \n",
    "Husky = Dog(\"Sammi\")\n",
    "ChocolateLab = Dog(\"Casey\")\n",
    "\n",
    "print(Husky.name)\n",
    "print(ChocolateLab.name)"
   ]
  },
  {
   "cell_type": "markdown",
   "metadata": {},
   "source": [
    "# Methods of class"
   ]
  },
  {
   "cell_type": "code",
   "execution_count": 48,
   "metadata": {},
   "outputs": [
    {
     "name": "stdout",
     "output_type": "stream",
     "text": [
      "bark\n"
     ]
    }
   ],
   "source": [
    "class Dog():\n",
    "    def makeSound(self):\n",
    "        print(\"bark\")\n",
    "        \n",
    "Casey = Dog()\n",
    "Casey.makeSound()"
   ]
  },
  {
   "cell_type": "code",
   "execution_count": 49,
   "metadata": {},
   "outputs": [
    {
     "name": "stdout",
     "output_type": "stream",
     "text": [
      "bark-bark\n"
     ]
    }
   ],
   "source": [
    "class Dog():\n",
    "    sound = \"bark-bark\"\n",
    "    \n",
    "    def makeSound(self):\n",
    "        print(self.sound)\n",
    "        \n",
    "Bobby = Dog()\n",
    "Bobby.makeSound()"
   ]
  },
  {
   "cell_type": "markdown",
   "metadata": {},
   "source": [
    "# Using setters and getters"
   ]
  },
  {
   "cell_type": "code",
   "execution_count": 5,
   "metadata": {},
   "outputs": [
    {
     "name": "stdout",
     "output_type": "stream",
     "text": [
      "Lora\n"
     ]
    }
   ],
   "source": [
    "class Dog():\n",
    "    name = ' '\n",
    "    \n",
    "    def setName(self, new_fresh_name):\n",
    "        self.name = new_fresh_name\n",
    "        \n",
    "    def getName(self):\n",
    "        return self.name\n",
    "    \n",
    "MyName = Dog()\n",
    "MyName.setName('Lora')\n",
    "print(MyName.getName())"
   ]
  },
  {
   "cell_type": "code",
   "execution_count": 9,
   "metadata": {},
   "outputs": [
    {
     "name": "stdout",
     "output_type": "stream",
     "text": [
      "6\n"
     ]
    }
   ],
   "source": [
    "#Incrementing attributes with methods\n",
    "\n",
    "class Dog():\n",
    "    age = 5\n",
    "    \n",
    "    def happyBrthd(self):\n",
    "        self.age+=1\n",
    "        \n",
    "sam = Dog()\n",
    "sam.happyBrthd()\n",
    "print(sam.age)"
   ]
  },
  {
   "cell_type": "code",
   "execution_count": 12,
   "metadata": {},
   "outputs": [
    {
     "name": "stdout",
     "output_type": "stream",
     "text": [
      "5\n",
      "It is a puppy!\n"
     ]
    }
   ],
   "source": [
    "#Methods calling methods\n",
    "\n",
    "class Dog():\n",
    "    age = 5\n",
    "    \n",
    "    def getAge(self):\n",
    "        return self.age\n",
    "    \n",
    "    def printPuppy(self):\n",
    "        if self.getAge()<10:\n",
    "            print('It is a puppy!')\n",
    "            \n",
    "            \n",
    "sam = Dog()\n",
    "print(sam.getAge())\n",
    "sam.printPuppy()"
   ]
  },
  {
   "cell_type": "raw",
   "metadata": {},
   "source": [
    "#Magic methods\n",
    "Without knowing, you’ve already used one, the initialization method. All magic methods\n",
    "have two underscores before and after their name. When you print out anything,\n",
    "you’re accessing a magic method called __str__. When you use operators (+, -, /, ∗, ==,\n",
    "etc.), you’re accessing magic methods. They are essentially functions that decide what\n",
    "operators and other tasks in Python perform. Don’t get too hooked on them, as we\n",
    "won’t use them too much, but I wanted to introduce you to them.All magic methods require certain parameters and returned values."
   ]
  },
  {
   "cell_type": "code",
   "execution_count": 20,
   "metadata": {},
   "outputs": [
    {
     "name": "stdout",
     "output_type": "stream",
     "text": [
      "feline\n"
     ]
    }
   ],
   "source": [
    "class Animal():\n",
    "    species = ' '\n",
    "    \n",
    "    def setName(self, new_species):\n",
    "        self.species = new_species\n",
    "        \n",
    "    def getName(self):\n",
    "        return self.species\n",
    "    \n",
    "    \n",
    "Lion = Animal()\n",
    "Lion.setName('feline')\n",
    "print(Lion.getName())"
   ]
  },
  {
   "cell_type": "markdown",
   "metadata": {},
   "source": [
    "# Inheritance - наследование "
   ]
  },
  {
   "cell_type": "code",
   "execution_count": 23,
   "metadata": {},
   "outputs": [
    {
     "name": "stdout",
     "output_type": "stream",
     "text": [
      "roar\n"
     ]
    },
    {
     "ename": "AttributeError",
     "evalue": "'Animal' object has no attribute 'species'",
     "output_type": "error",
     "traceback": [
      "\u001b[0;31m---------------------------------------------------------------------------\u001b[0m",
      "\u001b[0;31mAttributeError\u001b[0m                            Traceback (most recent call last)",
      "\u001b[0;32m<ipython-input-23-65342d1c27c1>\u001b[0m in \u001b[0;36m<module>\u001b[0;34m\u001b[0m\n\u001b[1;32m      9\u001b[0m \u001b[0;34m\u001b[0m\u001b[0m\n\u001b[1;32m     10\u001b[0m \u001b[0mDog\u001b[0m \u001b[0;34m=\u001b[0m \u001b[0mAnimal\u001b[0m\u001b[0;34m(\u001b[0m\u001b[0;34m)\u001b[0m\u001b[0;34m\u001b[0m\u001b[0;34m\u001b[0m\u001b[0m\n\u001b[0;32m---> 11\u001b[0;31m \u001b[0mprint\u001b[0m\u001b[0;34m(\u001b[0m\u001b[0mDog\u001b[0m\u001b[0;34m.\u001b[0m\u001b[0mspecies\u001b[0m\u001b[0;34m)\u001b[0m\u001b[0;34m\u001b[0m\u001b[0;34m\u001b[0m\u001b[0m\n\u001b[0m",
      "\u001b[0;31mAttributeError\u001b[0m: 'Animal' object has no attribute 'species'"
     ]
    }
   ],
   "source": [
    "class Animal():\n",
    "    def makeSound():\n",
    "        print('roar')\n",
    "        \n",
    "class Lion(Animal):\n",
    "    species = \"feline\"\n",
    "    \n",
    "Lion.makeSound()\n",
    "\n",
    "Dog = Animal()\n",
    "print(Dog.species)#inheritance doesn't work backwards"
   ]
  },
  {
   "cell_type": "code",
   "execution_count": 24,
   "metadata": {},
   "outputs": [
    {
     "name": "stdout",
     "output_type": "stream",
     "text": [
      "Lora\n"
     ]
    }
   ],
   "source": [
    "class Animal():\n",
    "    def __init__(self, species):\n",
    "        self.species = species\n",
    "        \n",
    "class Dog(Animal):\n",
    "    def __init__(self, species, name):\n",
    "        self.name = name\n",
    "        super().__init__(species)#used to declare the species defined in Animal\n",
    "        \n",
    "mydogs = Dog(\"Lora\", \"Abel\")\n",
    "print(mydogs.species)"
   ]
  },
  {
   "cell_type": "code",
   "execution_count": 26,
   "metadata": {},
   "outputs": [
    {
     "name": "stdout",
     "output_type": "stream",
     "text": [
      "roar\n",
      "bark\n"
     ]
    }
   ],
   "source": [
    "#Overriding - переопределение\n",
    "\n",
    "class Animal():\n",
    "    def makeSound(self):\n",
    "        print('roar')\n",
    "        \n",
    "class Dog(Animal):\n",
    "    def makeSound(self):\n",
    "        print('bark')\n",
    "\n",
    "alex, bethoven = Animal(), Dog()\n",
    "alex.makeSound()\n",
    "bethoven.makeSound()\n"
   ]
  },
  {
   "cell_type": "code",
   "execution_count": 36,
   "metadata": {},
   "outputs": [
    {
     "name": "stdout",
     "output_type": "stream",
     "text": [
      "Hello, my name is Max and I am on the good guys\n",
      "Hello, my name is Tony and I am on the bad guys\n"
     ]
    }
   ],
   "source": [
    "class Characters():    \n",
    "    def __init__(self, name, team):\n",
    "        self.name, self.team = name, team\n",
    "    \n",
    "    def sayHello(self):\n",
    "        print(f'Hello, my name is {self.name} and I am on the {self.team} guys')\n",
    "\n",
    "class Good(Characters):\n",
    "    def __init__(self, name):\n",
    "        super().__init__(name, 'good')\n",
    "        \n",
    "class Bad(Characters):\n",
    "    def __init__(self, name):\n",
    "        super().__init__(name, 'bad')\n",
    "    \n",
    "person1 = Good(\"Max\")\n",
    "person2 = Bad(\"Tony\")\n",
    "person1.sayHello()\n",
    "person2.sayHello()"
   ]
  },
  {
   "cell_type": "markdown",
   "metadata": {},
   "source": [
    "# Advanced topics\n"
   ]
  },
  {
   "cell_type": "markdown",
   "metadata": {},
   "source": [
    "# Lambda functions"
   ]
  },
  {
   "cell_type": "code",
   "execution_count": 4,
   "metadata": {},
   "outputs": [
    {
     "name": "stdout",
     "output_type": "stream",
     "text": [
      "4\n"
     ]
    }
   ],
   "source": [
    "#lambda function\n",
    "(lambda x: x**2)(2)"
   ]
  },
  {
   "cell_type": "code",
   "execution_count": 5,
   "metadata": {},
   "outputs": [
    {
     "name": "stdout",
     "output_type": "stream",
     "text": [
      "4\n"
     ]
    }
   ],
   "source": [
    "#the same normal function for the above lambda function\n",
    "def square(x):\n",
    "    print(x**2)\n",
    "square(2)"
   ]
  },
  {
   "cell_type": "code",
   "execution_count": 7,
   "metadata": {},
   "outputs": [
    {
     "data": {
      "text/plain": [
       "50"
      ]
     },
     "execution_count": 7,
     "metadata": {},
     "output_type": "execute_result"
    }
   ],
   "source": [
    "(lambda x, y: x * y)(5,10)"
   ]
  },
  {
   "cell_type": "code",
   "execution_count": 10,
   "metadata": {},
   "outputs": [
    {
     "name": "stdout",
     "output_type": "stream",
     "text": [
      "50\n"
     ]
    }
   ],
   "source": [
    "#Saving lambda functions into variables\n",
    "\n",
    "squarevar = lambda x, y: x * y\n",
    "res = squarevar(5,10)\n",
    "print(res)"
   ]
  },
  {
   "cell_type": "code",
   "execution_count": 2,
   "metadata": {},
   "outputs": [
    {
     "name": "stdout",
     "output_type": "stream",
     "text": [
      "111\n"
     ]
    }
   ],
   "source": [
    "#Conditionl statements with variables\n",
    "\n",
    "cond = lambda x, y: x if x>y else y\n",
    "res = cond(5,111)\n",
    "print(res)"
   ]
  },
  {
   "cell_type": "code",
   "execution_count": 9,
   "metadata": {},
   "outputs": [
    {
     "name": "stdout",
     "output_type": "stream",
     "text": [
      "10\n"
     ]
    }
   ],
   "source": [
    "#Returning lambda from another function\n",
    "#say x=5 and we want to multiply it twice ir even three three times, let's see how it goes\n",
    "\n",
    "def myN(n):\n",
    "    return lambda x: x*n\n",
    "myX = myN(5)#n, returns x:x*5\n",
    "print(myX(2))#x, multiply to itself 2, 3 times "
   ]
  },
  {
   "cell_type": "markdown",
   "metadata": {},
   "source": [
    "# Map, filter, reduce"
   ]
  },
  {
   "cell_type": "raw",
   "metadata": {},
   "source": [
    "Map is used to iterate over data collection(usually it is iterable data) and change it. Filter is used to filter the data. Reduce is like sum function."
   ]
  },
  {
   "cell_type": "code",
   "execution_count": 20,
   "metadata": {},
   "outputs": [
    {
     "name": "stdout",
     "output_type": "stream",
     "text": [
      "map without lambda\n",
      "[54.5, 55.400000000000006, 56.3, 57.2]\n",
      "\n",
      "map with lambda\n",
      "[54.5, 55.400000000000006, 56.3, 57.2]\n"
     ]
    }
   ],
   "source": [
    "#Map (without lambdas)\n",
    "print(\"map without lambda\")\n",
    "def convertCelToFar(C):\n",
    "    return (9/5) * C + 32\n",
    "myList = [12.5, 13, 13.5, 14]\n",
    "converted_celtofar = map(convertCelToFar, myList)#map object\n",
    "converted_celtofar_list = list(converted_celtofar)#map must be converted into list\n",
    "print(converted_celtofar_list)\n",
    "\n",
    "#Map (with lambdas)\n",
    "print(\"\\nmap with lambda\")\n",
    "myList = [12.5, 13, 13.5, 14]\n",
    "converted_celtofar_list = list(map(lambda C : (9/5) * C + 32, myList))\n",
    "print(converted_celtofar_list)"
   ]
  },
  {
   "cell_type": "code",
   "execution_count": 22,
   "metadata": {},
   "outputs": [
    {
     "name": "stdout",
     "output_type": "stream",
     "text": [
      "\n",
      "filter without lambda\n",
      "[13.5, 14]\n",
      "\n",
      "filter with lambda\n",
      "[13.5, 14]\n"
     ]
    }
   ],
   "source": [
    "#filter (without lamda)\n",
    "print(\"\\nfilter without lambda\")\n",
    "myList = [12.5, 13, 13.5, 14]\n",
    "def filtertemps(C):\n",
    "    converted = (9/5) * C + 32\n",
    "    return True if converted > 56 else False\n",
    "\n",
    "filtered_temps = filter(filtertemps, myList)\n",
    "filtered_temps_list = list(filtered_temps)\n",
    "print(filtered_temps_list)\n",
    "\n",
    "\n",
    "#filter (with lamda)\n",
    "print(\"\\nfilter with lambda\")\n",
    "myList = [12.5, 13, 13.5, 14]\n",
    "filtered_temps = list(map(lambda C: True if ( (9/5) * C + 32 )>56 else False, myList))\n",
    "print(filtered_temps_list)"
   ]
  },
  {
   "cell_type": "code",
   "execution_count": 29,
   "metadata": {},
   "outputs": [
    {
     "name": "stdout",
     "output_type": "stream",
     "text": [
      "reduce\n",
      "120\n",
      "\n",
      "for instead of reduce\n",
      "120\n"
     ]
    }
   ],
   "source": [
    "#reduce is useless in most cases, so it is more useful to use for function instead\n",
    "print(\"reduce\")\n",
    "from functools import reduce\n",
    "myNums = [1, 2, 3, 4, 5]\n",
    "multip = reduce(lambda x, y: x*y, myNums)\n",
    "print(multip)\n",
    "\n",
    "#the same with for\n",
    "print(\"\\nfor instead of reduce\")\n",
    "nums = [1, 2, 3, 4, 5]\n",
    "total = 1\n",
    "for n in nums:\n",
    "    total*=n\n",
    "print(total)"
   ]
  },
  {
   "cell_type": "code",
   "execution_count": 38,
   "metadata": {},
   "outputs": [
    {
     "name": "stdout",
     "output_type": "stream",
     "text": [
      "['Ryan', 'Paul', 'Kevin Connors']\n"
     ]
    }
   ],
   "source": [
    "names = [' ryan', 'PAUL ', 'kevin connors  ']\n",
    "n = list(map(lambda x: x.title().strip(), names))\n",
    "print(n)"
   ]
  },
  {
   "cell_type": "code",
   "execution_count": 41,
   "metadata": {},
   "outputs": [
    {
     "name": "stdout",
     "output_type": "stream",
     "text": [
      "['Frank', 'julian']\n"
     ]
    }
   ],
   "source": [
    "names = ['amanda', 'Frank', 'julian', 'Aaron']\n",
    "n = list(filter(lambda x: False if x.lower().startswith('a') else True, names))\n",
    "print(n)"
   ]
  },
  {
   "cell_type": "markdown",
   "metadata": {},
   "source": [
    "# Recursive functions and Memozation"
   ]
  },
  {
   "cell_type": "raw",
   "metadata": {},
   "source": [
    "Functions that call themselves many times are called recursive. Memoization helps with storage in recursive functions. They are useful for example in iterating through 4-dimensional arrays(rather than calling for loop 4 times it is more useful to use recursive functions.)"
   ]
  },
  {
   "cell_type": "code",
   "execution_count": 44,
   "metadata": {},
   "outputs": [
    {
     "name": "stdout",
     "output_type": "stream",
     "text": [
      "120\n"
     ]
    }
   ],
   "source": [
    "#Writing Factorial function using recursive function\n",
    "def factorial(number):\n",
    "    if number<=1:#not to forget set basecase or it will continue forever\n",
    "        return 1\n",
    "    else:\n",
    "        return factorial(number-1) * number\n",
    "    \n",
    "print(factorial(5))"
   ]
  },
  {
   "cell_type": "raw",
   "metadata": {},
   "source": [
    "About Fibonacci sequence: \n",
    "Each number in the sequence is the sum of the previous two numbers, such that fib(5) = fib(4) + fib(3).\n",
    "The base case for the Fibonacci sequence is 0 and 1 because the result of fib(2) is “fib(2) = fib(1) + fib(0)”."
   ]
  },
  {
   "cell_type": "code",
   "execution_count": 45,
   "metadata": {},
   "outputs": [
    {
     "name": "stdout",
     "output_type": "stream",
     "text": [
      "5\n"
     ]
    }
   ],
   "source": [
    "#Writing Fibonacci sequence using recursive function\n",
    "def fibo(num):\n",
    "    if num<=1:#not to forget set basecase or it will continue forever\n",
    "        return num\n",
    "    else:\n",
    "        return fibo(num-1) + fibo(num-2)\n",
    "\n",
    "print(fibo(5))"
   ]
  },
  {
   "cell_type": "code",
   "execution_count": 50,
   "metadata": {},
   "outputs": [
    {
     "data": {
      "image/png": "[encoded data removed]",
      "text/plain": [
       "<IPython.core.display.Image object>"
      ]
     },
     "execution_count": 50,
     "metadata": {},
     "output_type": "execute_result"
    }
   ],
   "source": [
    "from IPython.display import Image\n",
    "Image(filename = \"/home/user/Pictures/Fibo.png\")"
   ]
  },
  {
   "cell_type": "markdown",
   "metadata": {},
   "source": [
    "# Memiozation"
   ]
  },
  {
   "cell_type": "raw",
   "metadata": {},
   "source": [
    "This one is the same as caching. It helps to calculate for example Fibonacci sequence with a lot of numbers almost instantly rather than in 1-2 days."
   ]
  },
  {
   "cell_type": "markdown",
   "metadata": {},
   "source": [
    "# Hand-made memoization "
   ]
  },
  {
   "cell_type": "code",
   "execution_count": 88,
   "metadata": {},
   "outputs": [
    {
     "name": "stdout",
     "output_type": "stream",
     "text": [
      "4697917850416317858424879758900739538250666692821496682884203464915637145825233685559975410075476059523304766527516247153803889625249533926657610768870488403164566192119962304067836460380483631651794403092173552668885297713501311632533913474249024032275718484401128799410705525965090320797432319268803589682645496313234358694747137735763215935094542280060144609589507432743320586312652906070029675658283465276680595674635726579735841441453037450397131243443719982766874455651186464233533448247971123605508289983992833994552744524527106564865474657170182563319560797299015485334172618288494417869665794220552993148005831\n"
     ]
    }
   ],
   "source": [
    "cache = { }\n",
    "def fibo(num):\n",
    "    if num in cache:\n",
    "        return cache[num]\n",
    "    \n",
    "    if num<=1:#not to forget set basecase or it will continue forever\n",
    "        return num\n",
    "    else:\n",
    "        result = fibo(num-1) + fibo(num-2)\n",
    "    \n",
    "    cache[num] = result\n",
    "    return result\n",
    "\n",
    "print(fibo(2962))\n"
   ]
  },
  {
   "cell_type": "code",
   "execution_count": null,
   "metadata": {},
   "outputs": [],
   "source": [
    "import sys\n",
    "print(sys.getrecursionlimit())#for my comp it is 2962, in 2963 it gives error that reached the limit\n",
    "\n",
    "sys.setrecursionlimit(4000)#if i set it myself it is easier to live\n",
    "print(sys.getrecursionlimit())"
   ]
  },
  {
   "cell_type": "markdown",
   "metadata": {},
   "source": [
    "# Built-in Memoization : @lru_cache(Least Recently Used cache)"
   ]
  },
  {
   "cell_type": "code",
   "execution_count": 90,
   "metadata": {},
   "outputs": [
    {
     "name": "stdout",
     "output_type": "stream",
     "text": [
      "12586269025\n"
     ]
    }
   ],
   "source": [
    "from functools import lru_cache\n",
    "@lru_cache #decorator\n",
    "\n",
    "#Writing Fibonacci sequence using recursive function\n",
    "def fibo(num):\n",
    "    if num<=1:#not to forget set basecase or it will continue forever\n",
    "        return num\n",
    "    else:\n",
    "        return fibo(num-1) + fibo(num-2)\n",
    "\n",
    "print(fibo(50))"
   ]
  },
  {
   "cell_type": "markdown",
   "metadata": {},
   "source": [
    "# Week 8, Project 7: Writing Binary Search"
   ]
  },
  {
   "cell_type": "raw",
   "metadata": {},
   "source": [
    "Binary Search \n",
    "\n",
    "1. Sort the list.\n",
    "2. Find the middle index.\n",
    "3. Check the value at the middle index; if it’s the value we’re looking\n",
    "for, return True.\n",
    "4. Check the value at the middle index; if it’s greater than the value\n",
    "we’re looking for, cut off the right half of the list.\n",
    "5. Check the value at the middle index; if it’s less than the value\n",
    "we’re looking for, cut off the left half of the list.\n",
    "6. Repeat steps 2 through 6 until the list is empty.\n",
    "7. If the while loop ends, it means there’s no items left, so return False."
   ]
  },
  {
   "cell_type": "code",
   "execution_count": 93,
   "metadata": {},
   "outputs": [
    {
     "data": {
      "image/png": "[encoded data removed]",
      "text/plain": [
       "<IPython.core.display.Image object>"
      ]
     },
     "execution_count": 93,
     "metadata": {},
     "output_type": "execute_result"
    }
   ],
   "source": [
    "from IPython.display import Image\n",
    "Image(filename=\"/home/user/Pictures/binarysearch.png\")"
   ]
  },
  {
   "cell_type": "code",
   "execution_count": 114,
   "metadata": {},
   "outputs": [
    {
     "name": "stdout",
     "output_type": "stream",
     "text": [
      "[1, 3, 4, 4, 4, 4, 5, 5, 5, 6]\n",
      "True\n"
     ]
    }
   ],
   "source": [
    "import random\n",
    "nums = [random.randint(0,10) for i in range(10)] #create a list of 10 numbers between 10 and 20\n",
    "\n",
    "def binar(aList, num):\n",
    "    aList.sort()                      #step 1\n",
    "    \n",
    "    while aList:                      #step 6\n",
    "        \n",
    "    \n",
    "        mid = len(aList)//2           #step 2\n",
    "    \n",
    "        #print(mid)#the result is 5 as half of 10 is 5\n",
    "    \n",
    "        if aList[mid] == num:         #step 3\n",
    "            return True\n",
    "    \n",
    "        elif aList[mid] > num:        #step 4\n",
    "            aList = aList[:mid]       #cut off till the mid\n",
    "            #print(aList)\n",
    "        \n",
    "        elif aList[mid] < num:        #step 5\n",
    "            aList = aList[mid+1:]\n",
    "            #print(aList)\n",
    "    return False\n",
    "        \n",
    "print(sorted(nums))       #for debugging\n",
    "print(binar(nums, 3))\n"
   ]
  },
  {
   "cell_type": "markdown",
   "metadata": {},
   "source": [
    "# Week 9: Complexity"
   ]
  },
  {
   "cell_type": "code",
   "execution_count": null,
   "metadata": {},
   "outputs": [],
   "source": []
  }
 ],
 "metadata": {
  "kernelspec": {
   "display_name": "Python 3",
   "language": "python",
   "name": "python3"
  },
  "language_info": {
   "codemirror_mode": {
    "name": "ipython",
    "version": 3
   },
   "file_extension": ".py",
   "mimetype": "text/x-python",
   "name": "python",
   "nbconvert_exporter": "python",
   "pygments_lexer": "ipython3",
   "version": "3.8.5"
  }
 },
 "nbformat": 4,
 "nbformat_minor": 4
}
